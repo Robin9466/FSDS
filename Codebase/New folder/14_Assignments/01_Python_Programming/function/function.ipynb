{
  "nbformat": 4,
  "nbformat_minor": 0,
  "metadata": {
    "colab": {
      "provenance": []
    },
    "kernelspec": {
      "name": "python3",
      "display_name": "Python 3"
    },
    "language_info": {
      "name": "python"
    }
  },
  "cells": [
    {
      "cell_type": "code",
      "execution_count": null,
      "metadata": {
        "id": "-rT34Alo9DM2"
      },
      "outputs": [],
      "source": [
        "    q1 : Try to print a prime number in between 1 to 1000\n",
        "    q2 : Try to write a function which  is equivalent  to print function in python\n",
        "    q3 : Try to write a function which is a replica of list append , extend and pop function\n",
        "    q4 : Try to write a lambda function which can return a concatenation of all the string that we will pass\n",
        "    q5 : Try to write a lambda function which can return list of square of all the data between 1-100\n",
        "    q6 : Try to write a 10 Different different example of lambda function with a choice of your tasks\n",
        "    q7 : Try to write a function which can perform a read operation from .txt file\n"
      ]
    },
    {
      "cell_type": "code",
      "source": [
        "#  q1 : Try to print a prime number in between 1 to 1000\n",
        "import math\n",
        "\n",
        "# Function to check if a number is prime\n",
        "def is_prime(n):\n",
        "    if n <= 1:\n",
        "        return False\n",
        "    for c in range(2, math.isqrt(n) + 1):  # Check divisibility up to sqrt(n)\n",
        "        if n % c == 0:\n",
        "            return False\n",
        "    return True\n",
        "\n",
        "# Loop through numbers from 1 to 1000 and print prime numbers\n",
        "for num in range(1, 1001):\n",
        "    if is_prime(num):\n",
        "        print(num, end = ' ')\n"
      ],
      "metadata": {
        "id": "qUWtwynF9Jnd",
        "colab": {
          "base_uri": "https://localhost:8080/"
        },
        "outputId": "2c8babf7-1cf7-4ef6-90b6-1e7238daf2ba"
      },
      "execution_count": 1,
      "outputs": [
        {
          "output_type": "stream",
          "name": "stdout",
          "text": [
            "2 3 5 7 11 13 17 19 23 29 31 37 41 43 47 53 59 61 67 71 73 79 83 89 97 101 103 107 109 113 127 131 137 139 149 151 157 163 167 173 179 181 191 193 197 199 211 223 227 229 233 239 241 251 257 263 269 271 277 281 283 293 307 311 313 317 331 337 347 349 353 359 367 373 379 383 389 397 401 409 419 421 431 433 439 443 449 457 461 463 467 479 487 491 499 503 509 521 523 541 547 557 563 569 571 577 587 593 599 601 607 613 617 619 631 641 643 647 653 659 661 673 677 683 691 701 709 719 727 733 739 743 751 757 761 769 773 787 797 809 811 821 823 827 829 839 853 857 859 863 877 881 883 887 907 911 919 929 937 941 947 953 967 971 977 983 991 997 "
          ]
        }
      ]
    },
    {
      "cell_type": "code",
      "source": [
        "import math\n",
        "\n",
        "n = int(input(f\"Enter a number: \"))\n",
        "\n",
        "if n <= 1:\n",
        "    print(f\"{n} is neither prime nor composite\")\n",
        "else:\n",
        "    is_prime = True\n",
        "    c = 2\n",
        "    while c <= math.isqrt(n):  #  # Using integer square root for efficient prime check\n",
        "        if n%c == 0:\n",
        "            print(\"{n} is not a prime number\")\n",
        "            is_prime = False\n",
        "            break\n",
        "        c = c+1\n",
        "    if is_prime:\n",
        "        print(f'{n} is a prime number')"
      ],
      "metadata": {
        "colab": {
          "base_uri": "https://localhost:8080/"
        },
        "id": "8gvkhn73HRk7",
        "outputId": "824ba3a6-23ab-4f9c-b189-37629946ed67"
      },
      "execution_count": null,
      "outputs": [
        {
          "output_type": "stream",
          "name": "stdout",
          "text": [
            "Enter a number: 1\n",
            "1 is neither prime nor composite\n"
          ]
        }
      ]
    }
  ]
}