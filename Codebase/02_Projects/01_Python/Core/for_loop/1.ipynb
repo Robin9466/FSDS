{
  "cells": [
    {
      "cell_type": "code",
      "execution_count": null,
      "metadata": {
        "id": "RKS5_yUnHnZ-",
        "colab": {
          "base_uri": "https://localhost:8080/",
          "height": 106
        },
        "outputId": "34f48ffb-e96a-49fd-85b9-f6c8ad36146e"
      },
      "outputs": [
        {
          "output_type": "error",
          "ename": "IndentationError",
          "evalue": "unindent does not match any outer indentation level (<tokenize>, line 10)",
          "traceback": [
            "\u001b[0;36m  File \u001b[0;32m\"<tokenize>\"\u001b[0;36m, line \u001b[0;32m10\u001b[0m\n\u001b[0;31m    ineruon      ineruon\u001b[0m\n\u001b[0m    ^\u001b[0m\n\u001b[0;31mIndentationError\u001b[0m\u001b[0;31m:\u001b[0m unindent does not match any outer indentation level\n"
          ]
        }
      ],
      "source": [
        "q1 :\n",
        "ineruon\n",
        "ineruon ineruon\n",
        "ineruon ineruon ineruon\n",
        "ineruon ineruon ineruon ineruon\n",
        "\n",
        "q2 -\n",
        "\n",
        "          ineruon\n",
        "    ineruon      ineruon\n",
        "ineruon\t\tineruon \tineruon\n",
        "\tineruon\t\t ineruon\n",
        "\t\t  ineruon\n",
        "\n",
        "l = [[1,2,3,4] , (2,3,4,5,6) , (3,4,5,6,7) , set([23,4,5,45,4,4,5,45,45,4,5]) , {'k1' :\"sudh\" , \"k2\" : \"ineuron\",\"k3\":\n",
        "            \"kumar\" , 3:6 , 7:8} , [\"ineuron\" , \"data science \"]]\n",
        "\n",
        "q3 : Try to extract all the list entity\n",
        "q4 : Try to extract all the dict enteties\n",
        "q5 : Try to extract all the tuples entities\n",
        "q6 : Try to extract all the numerical data it may b a part of dict key and values\n",
        "q7 : Try to give summation of all the numeric data\n",
        "q8 : Try to filter out all the odd values out all numeric data which is a part of a list\n",
        "q9 : Try to extract \"ineruon\" out of this data\n",
        "q10 :Try to find out a number of occurances of all the data\n",
        "q11 : Try to find out number of keys in dict element\n",
        "q12 : Try to filter out all the string data\n",
        "q13 : Try to Find  out alphanum in data\n",
        "q14 : Try to find out multiplication of all numeric value in  the individual collection inside dataset\n",
        "q15 : Try to unwrape all the collection inside collection and create a flat list\n",
        "\n",
        "\n",
        "before 29th may 2022 3 PM IST you have to send an answer to me or to shivan\n",
        "sudhanshu@ineuron.ai\n",
        "shivan@ineuron.ai"
      ]
    },
    {
      "cell_type": "code",
      "source": [
        "# Data\n",
        "l = [[1,2,3,4] , (2,3,4,5,6) , (3,4,5,6,7) , set([23,4,5,45,4,4,5,45,45,4,5]) , {'k1' :\"sudh\" , \"k2\" : \"ineuron\",\"k3\":\n",
        "            \"kumar\" , 3:6 , 7:8} , [\"ineuron\" , \"data science \"]]"
      ],
      "metadata": {
        "id": "ImOAsr2952le"
      },
      "execution_count": null,
      "outputs": []
    },
    {
      "cell_type": "code",
      "source": [
        "'''q1 :\n",
        "ineruon\n",
        "ineruon ineruon\n",
        "ineruon ineruon ineruon\n",
        "ineruon ineruon ineruon ineruon'''"
      ],
      "metadata": {
        "id": "B3yLKzj25sqk"
      },
      "execution_count": null,
      "outputs": []
    },
    {
      "cell_type": "code",
      "source": [
        "\"\"\"q2 -\n",
        "\n",
        "          ineruon\n",
        "    ineruon      ineruon\n",
        "ineruon\t\tineruon \tineruon\n",
        "\tineruon\t\t ineruon\n",
        "\t\t  ineruon\"\"\""
      ],
      "metadata": {
        "id": "6mtFrQkM5yNG"
      },
      "execution_count": null,
      "outputs": []
    },
    {
      "cell_type": "code",
      "source": [
        "# q3 : Try to extract all the list entity\n",
        "\n",
        "for item in l:\n",
        "    print(item, end = ', ')"
      ],
      "metadata": {
        "colab": {
          "base_uri": "https://localhost:8080/"
        },
        "id": "Jvh05ii6mK91",
        "outputId": "d165b28e-d552-44df-99c2-a13056a8e3d0"
      },
      "execution_count": null,
      "outputs": [
        {
          "output_type": "stream",
          "name": "stdout",
          "text": [
            "[1, 2, 3, 4], (2, 3, 4, 5, 6), (3, 4, 5, 6, 7), {45, 4, 5, 23}, {'k1': 'sudh', 'k2': 'ineuron', 'k3': 'kumar', 3: 6, 7: 8}, ['ineuron', 'data science '], "
          ]
        }
      ]
    },
    {
      "cell_type": "code",
      "source": [
        "# q4 : Try to extract all the dict enteties\n",
        "\n",
        "extract_dict_entities = []\n",
        "for item in l:\n",
        "    if isinstance(item, dict):\n",
        "        extract_dict_entities.append(item)\n",
        "print(extract_dict_entities)"
      ],
      "metadata": {
        "colab": {
          "base_uri": "https://localhost:8080/"
        },
        "id": "7VzuDffDm46E",
        "outputId": "9e1b5ea0-a569-4530-f66b-fe26fd26c1d9"
      },
      "execution_count": null,
      "outputs": [
        {
          "output_type": "stream",
          "name": "stdout",
          "text": [
            "[{'k1': 'sudh', 'k2': 'ineuron', 'k3': 'kumar', 3: 6, 7: 8}]\n"
          ]
        }
      ]
    },
    {
      "cell_type": "code",
      "source": [
        "# q5 : Try to extract all the tuples entities\n",
        "\n",
        "extract_tuple_entities = []\n",
        "\n",
        "for item in l:\n",
        "    if isinstance(item, tuple):\n",
        "        extract_tuple_entities.append(item)\n",
        "print(extract_tuple_entities)"
      ],
      "metadata": {
        "colab": {
          "base_uri": "https://localhost:8080/"
        },
        "id": "erPL3_DPoRhA",
        "outputId": "50b5aef6-6ef1-48ea-8783-8d8d7d73f5ab"
      },
      "execution_count": null,
      "outputs": [
        {
          "output_type": "stream",
          "name": "stdout",
          "text": [
            "[(2, 3, 4, 5, 6), (3, 4, 5, 6, 7)]\n"
          ]
        }
      ]
    },
    {
      "cell_type": "code",
      "source": [
        "# q6 : Try to extract all the numerical data it may b a part of dict key and values\n",
        "\n",
        "extracted_numeric_data = []\n",
        "\n",
        "for item in l:\n",
        "    if isinstance(item, (list, tuple, set)): # Check for lists, tuples, sets\n",
        "        for element in item:\n",
        "            if isinstance(element, int):\n",
        "                extracted_numeric_data.append(element)\n",
        "    elif isinstance(item, dict): # Check for dictionaries\n",
        "        for key, value in item.items():\n",
        "                if isinstance(key, int):\n",
        "                    extracted_numeric_data.append(key)\n",
        "                if isinstance(value, int):\n",
        "                    extracted_numeric_data.append(value)\n",
        "print(f'Extracted numeric data from the lists: {extracted_numeric_data}')"
      ],
      "metadata": {
        "colab": {
          "base_uri": "https://localhost:8080/"
        },
        "id": "Wi2x5wb3pMai",
        "outputId": "e83515c4-8673-4ce5-bac2-def8d1cfff04"
      },
      "execution_count": null,
      "outputs": [
        {
          "output_type": "stream",
          "name": "stdout",
          "text": [
            "Extracted numeric data from the lists: [1, 2, 3, 4, 2, 3, 4, 5, 6, 3, 4, 5, 6, 7, 45, 4, 5, 23, 3, 6, 7, 8]\n"
          ]
        }
      ]
    },
    {
      "cell_type": "code",
      "source": [
        "# q7 : Try to give summation of all the numeric data\n",
        "\n",
        "total_sum = 0\n",
        "\n",
        "for item in l:\n",
        "    if isinstance(item, (list, tuple, set)): # Check for lists, tuples, sets\n",
        "        for element in item:\n",
        "            if isinstance(element, int):\n",
        "                total_sum += element\n",
        "    elif isinstance(item, dict): # Check for dictionaries\n",
        "        for key, value in item.items():\n",
        "                if isinstance(key, int):\n",
        "                    total_sum += key\n",
        "                if isinstance(value, int):\n",
        "                    total_sum += value\n",
        "print(f'Summation of all the numeric data: {total_sum}')"
      ],
      "metadata": {
        "colab": {
          "base_uri": "https://localhost:8080/"
        },
        "id": "B__nELTLzTfb",
        "outputId": "78fe039a-4f4a-4c74-c6f6-aeb51a00d1ba"
      },
      "execution_count": null,
      "outputs": [
        {
          "output_type": "stream",
          "name": "stdout",
          "text": [
            "Summation of all the numeric data: 156\n"
          ]
        }
      ]
    },
    {
      "cell_type": "code",
      "source": [
        "# q8 : Try to filter out all the odd values out all numeric data which is a part of a list\n",
        "\n",
        "odd_values = []\n",
        "\n",
        "for item in l:\n",
        "    if isinstance(item, (list, tuple, set)): # Check for lists, tuples, sets\n",
        "        for element in item:\n",
        "            if isinstance(element, int) and element %2 != 0:\n",
        "                odd_values.append(element)\n",
        "    elif isinstance(item, dict): # Check for dictionaries\n",
        "        for key, value in item.items():\n",
        "                if isinstance(key, int) and key%2 != 0:\n",
        "                    odd_values.append(key)\n",
        "                if isinstance(value, int) and value%2 != 0:\n",
        "                    odd_values.append(value)\n",
        "print(f'odd values out all numeric data which is a part of a list: {odd_values}')"
      ],
      "metadata": {
        "colab": {
          "base_uri": "https://localhost:8080/"
        },
        "id": "IwA-1im30Ip2",
        "outputId": "97aa9b3c-adc1-4262-e89e-165f57cdfe15"
      },
      "execution_count": null,
      "outputs": [
        {
          "output_type": "stream",
          "name": "stdout",
          "text": [
            "odd values out all numeric data which is a part of a list: [1, 3, 3, 5, 3, 5, 7, 45, 5, 23, 3, 7]\n"
          ]
        }
      ]
    },
    {
      "cell_type": "code",
      "source": [
        "# q9 : Try to extract \"ineruon\" out of this data\n",
        "\n",
        "l = [[1,2,3,4] , (2,3,4,5,6) , (3,4,5,6,7) , set([23,4,5,45,4,4,5,45,45,4,5]) , {'k1' :\"sudh\" , \"k2\" : \"ineuron\",\"k3\":\n",
        "            \"kumar\" , 3:6 , 7:8} , [\"ineuron\" , \"data science \"]]\n",
        "\n",
        "extracted_ineuron = []\n",
        "\n",
        "for item in l:\n",
        "    if isinstance(item, (list, tuple, set)): # Check for lists, tuples, sets\n",
        "        if 'ineuron' in item:\n",
        "            extracted_ineuron.append('ineuron')\n",
        "    elif isinstance(item, dict): # Check for dictionaries\n",
        "        if 'ineuron' in item.keys():\n",
        "            extracted_ineuron.append('ineuron')\n",
        "        if 'ineuron' in item.values():\n",
        "            extracted_ineuron.append('ineuron')\n",
        "print(f'Extracted ineuron from the lists: {extracted_ineuron}')\n"
      ],
      "metadata": {
        "colab": {
          "base_uri": "https://localhost:8080/"
        },
        "id": "Qjv6pgRt1QcI",
        "outputId": "4be2158d-f907-458f-82a2-98de9434373d"
      },
      "execution_count": null,
      "outputs": [
        {
          "output_type": "stream",
          "name": "stdout",
          "text": [
            "Extracted ineuron from the lists: ['ineuron', 'ineuron']\n"
          ]
        }
      ]
    },
    {
      "cell_type": "code",
      "source": [
        "# q10 :Try to find out a number of occurances of all the data\n",
        "\n",
        "l = [[1,2,3,4],\n",
        "     (2,3,4,5,6),\n",
        "     (3,4,5,6,7),\n",
        "     set([23,4,5,45]),\n",
        "     {'k1': 'sudh', 'k2': 'ineuron', 'k3': 'kumar', 3: 6, 7: 8},\n",
        "     [\"ineuron\", \"data science \"]]\n",
        "\n",
        "occurrences = {}\n",
        "\n",
        "for item in l:\n",
        "    if isinstance(item, (list, tuple, set)):\n",
        "        for sub_item in item:\n",
        "            if sub_item in occurrences:\n",
        "                occurrences[sub_item] += 1\n",
        "            else:\n",
        "                occurrences[sub_item] = 1\n",
        "    elif isinstance(item, dict):\n",
        "        for key, value in item.items():\n",
        "            # Counting keys\n",
        "            if key in occurrences:\n",
        "                occurrences[key] += 1\n",
        "            else:\n",
        "                occurrences[key] = 1\n",
        "\n",
        "            # Counting values\n",
        "            if value in occurrences:\n",
        "                occurrences[value] += 1\n",
        "            else:\n",
        "                occurrences[value] = 1\n",
        "print(occurrences)"
      ],
      "metadata": {
        "colab": {
          "base_uri": "https://localhost:8080/"
        },
        "id": "GHKbOVzroUyT",
        "outputId": "916e2766-696d-4531-9fb0-7324880c7a5c"
      },
      "execution_count": null,
      "outputs": [
        {
          "output_type": "stream",
          "name": "stdout",
          "text": [
            "{1: 1, 2: 2, 3: 4, 4: 4, 5: 3, 6: 3, 7: 2, 45: 1, 23: 1, 'k1': 1, 'sudh': 1, 'k2': 1, 'ineuron': 2, 'k3': 1, 'kumar': 1, 8: 1, 'data science ': 1}\n"
          ]
        }
      ]
    },
    {
      "cell_type": "code",
      "source": [
        "# List containing various data structures\n",
        "l = [\n",
        "    [1, 2, 3, 4],\n",
        "    (2, 3, 4, 5, 6),\n",
        "    (3, 4, 5, 6, 7),\n",
        "    set([23, 4, 5, 45]),\n",
        "    {'k1': 'sudh', 'k2': 'ineuron', 'k3': 'kumar', 3: 6, 7: 8},\n",
        "    [\"ineuron\", \"data science \"]\n",
        "]\n",
        "\n",
        "# Dictionary to store the count of each element\n",
        "occurrences = {}\n",
        "\n",
        "# Function to process each element in the nested structures\n",
        "def process_element(element):\n",
        "    if isinstance(element, (list, tuple, set)):\n",
        "        for item in element:\n",
        "            occurrences[item] = occurrences.get(item, 0) + 1\n",
        "    elif isinstance(element, dict):\n",
        "        for key, value in element.items():\n",
        "            occurrences[key] = occurrences.get(key, 0) + 1\n",
        "            occurrences[value] = occurrences.get(value, 0) + 1\n",
        "    else:\n",
        "        occurrences[element] = occurrences.get(element, 0) + 1\n",
        "\n",
        "# Iterating over the main list l\n",
        "for item in l:\n",
        "    process_element(item)\n",
        "\n",
        "# Output the occurrences\n",
        "print(occurrences)\n"
      ],
      "metadata": {
        "id": "D93Q7-CKrZ7B",
        "outputId": "a20b98d6-47b6-4a1c-d934-87cd6e3e8f3c",
        "colab": {
          "base_uri": "https://localhost:8080/"
        }
      },
      "execution_count": null,
      "outputs": [
        {
          "output_type": "stream",
          "name": "stdout",
          "text": [
            "{1: 1, 2: 2, 3: 4, 4: 4, 5: 3, 6: 3, 7: 2, 45: 1, 23: 1, 'k1': 1, 'sudh': 1, 'k2': 1, 'ineuron': 2, 'k3': 1, 'kumar': 1, 8: 1, 'data science ': 1}\n"
          ]
        }
      ]
    },
    {
      "cell_type": "code",
      "source": [
        "# q11 : Try to find out number of keys in dict element"
      ],
      "metadata": {
        "id": "IJ1br9t2phWQ"
      },
      "execution_count": null,
      "outputs": []
    }
  ],
  "metadata": {
    "colab": {
      "provenance": []
    },
    "kernelspec": {
      "display_name": "Python 3",
      "name": "python3"
    },
    "language_info": {
      "name": "python"
    }
  },
  "nbformat": 4,
  "nbformat_minor": 0
}