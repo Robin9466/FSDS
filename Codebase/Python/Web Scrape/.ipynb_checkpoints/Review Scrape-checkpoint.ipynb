{
 "cells": [
  {
   "cell_type": "code",
   "execution_count": 65,
   "id": "56bce1f3-48b8-4618-a295-e5ae2616dad1",
   "metadata": {},
   "outputs": [],
   "source": [
    "from flask import Flask , render_template , request , jsonify\n",
    "from bs4 import BeautifulSoup as bs \n",
    "from urllib.request import urlopen as urReq"
   ]
  },
  {
   "cell_type": "code",
   "execution_count": 66,
   "id": "af30cc11-f4b9-490f-8897-414f95081b12",
   "metadata": {},
   "outputs": [],
   "source": [
    "flipkart_url = \"https://www.flipkart.com/search?q=\"+\"oneplus\""
   ]
  },
  {
   "cell_type": "code",
   "execution_count": 67,
   "id": "665059af-7272-429e-ba8b-c8b9ffd9c46b",
   "metadata": {},
   "outputs": [
    {
     "data": {
      "text/plain": [
       "'https://www.flipkart.com/search?q=oneplus'"
      ]
     },
     "execution_count": 67,
     "metadata": {},
     "output_type": "execute_result"
    }
   ],
   "source": [
    "flipkart_url"
   ]
  },
  {
   "cell_type": "code",
   "execution_count": 68,
   "id": "5f775054-3629-4fe3-908b-881d04aceed0",
   "metadata": {},
   "outputs": [],
   "source": [
    "response = urReq(flipkart_url)"
   ]
  },
  {
   "cell_type": "code",
   "execution_count": 69,
   "id": "9bc4f314-0107-49b2-b7ba-e3bad8dee09f",
   "metadata": {},
   "outputs": [],
   "source": [
    "data_flipkart = response.read()"
   ]
  },
  {
   "cell_type": "code",
   "execution_count": 70,
   "id": "61bd6dd0-2057-4c84-9d3a-a5c6d9897534",
   "metadata": {},
   "outputs": [],
   "source": [
    "beautified_html = bs(data_flipkart, \"html.parser\")"
   ]
  },
  {
   "cell_type": "code",
   "execution_count": 71,
   "id": "363f0c6e-b2e6-46ae-867e-35e388e704fc",
   "metadata": {},
   "outputs": [],
   "source": [
    "bigbox = beautified_html.find_all('div', {\"class\":\"_1AtVbE col-12-12\"})"
   ]
  },
  {
   "cell_type": "code",
   "execution_count": 72,
   "id": "2eb30509-827c-4a62-aa0f-320d292da8fd",
   "metadata": {},
   "outputs": [],
   "source": [
    "product6 = \"https://www.flipkart.com\" + bigbox[6].div.div.div.a['href']"
   ]
  },
  {
   "cell_type": "code",
   "execution_count": 78,
   "id": "d27c1463-cdb1-412a-b930-8c8e92942796",
   "metadata": {},
   "outputs": [],
   "source": [
    "import requests"
   ]
  },
  {
   "cell_type": "code",
   "execution_count": 79,
   "id": "ad131c81-7f1a-4d43-9917-5483a9751107",
   "metadata": {},
   "outputs": [],
   "source": [
    "product66 = requests.get(product6)"
   ]
  },
  {
   "cell_type": "code",
   "execution_count": 80,
   "id": "ba597855-21a9-4290-b99a-6fd4072d2c9d",
   "metadata": {},
   "outputs": [],
   "source": [
    "product66.encoding = 'utf-8'"
   ]
  },
  {
   "cell_type": "code",
   "execution_count": 81,
   "id": "cbfab432-e524-41ff-8626-294e0c5b242f",
   "metadata": {},
   "outputs": [
    {
     "data": {
      "text/plain": [
       "<function str.encode(encoding='utf-8', errors='strict')>"
      ]
     },
     "execution_count": 81,
     "metadata": {},
     "output_type": "execute_result"
    }
   ],
   "source": [
    "product6.encode"
   ]
  },
  {
   "cell_type": "code",
   "execution_count": null,
   "id": "7cf716bd-a52e-490e-a74b-b81e37084144",
   "metadata": {},
   "outputs": [],
   "source": []
  },
  {
   "cell_type": "code",
   "execution_count": 83,
   "id": "4ae3e93c-b8c7-4ada-a370-a9bdb23636b9",
   "metadata": {},
   "outputs": [],
   "source": [
    "product6_page = bs(product66.text, \"html.parser\")"
   ]
  },
  {
   "cell_type": "code",
   "execution_count": 87,
   "id": "3b872a56-a1e6-49ae-bfc8-448ff3eb5d84",
   "metadata": {},
   "outputs": [],
   "source": [
    "all_review = product6_page.find_all('div', {\"class\":\"_16PBlm\"})"
   ]
  },
  {
   "cell_type": "code",
   "execution_count": 88,
   "id": "69d3fc96-c5e2-4421-be18-bfb301c7790c",
   "metadata": {},
   "outputs": [
    {
     "data": {
      "text/plain": [
       "11"
      ]
     },
     "execution_count": 88,
     "metadata": {},
     "output_type": "execute_result"
    }
   ],
   "source": [
    "len(all_review)"
   ]
  },
  {
   "cell_type": "code",
   "execution_count": 89,
   "id": "ac05ce45-3810-42b6-be40-6003625a600a",
   "metadata": {},
   "outputs": [
    {
     "data": {
      "text/plain": [
       "<div class=\"_16PBlm _3_IKGE\"><div class=\"col\"><div class=\"col _2wzgFH\"><div class=\"row\"><div class=\"_3LWZlK _1BLPMq\">5<img class=\"_1wB99o\" src=\"data:image/svg+xml;base64,PHN2ZyB4bWxucz0iaHR0cDovL3d3dy53My5vcmcvMjAwMC9zdmciIHdpZHRoPSIxMyIgaGVpZ2h0PSIxMiI+PHBhdGggZmlsbD0iI0ZGRiIgZD0iTTYuNSA5LjQzOWwtMy42NzQgMi4yMy45NC00LjI2LTMuMjEtMi44ODMgNC4yNTQtLjQwNEw2LjUuMTEybDEuNjkgNC4wMSA0LjI1NC40MDQtMy4yMSAyLjg4Mi45NCA0LjI2eiIvPjwvc3ZnPg==\"/></div><p class=\"_2-N8zT\">Just wow!</p></div><div class=\"row\"><div class=\"t-ZTKy\"><div><div class=\"\">I'm fully satisfied with<br/>1. Camera clarity. <br/>2. Display n performance is like Butter 🧈<br/>3. Speaker is also loud n clear compare to any other phones.<br/>4. Design - Lightweght <br/>5. Charging is very fast.<br/><br/>Only thing is Battery need to be 6000mah atleast .Still 5000mah is good for daily use. As it is charging very fast no need to worry. <br/><br/>I give 4.5/5*</div><span class=\"_1H-bmy\"><span>READ MORE</span></span></div></div></div><div class=\"_2nMSwX _3oLIki\"><div class=\"_21YjFX _2A07HP\" style=\"background-image:url(https://rukminim1.flixcart.com/blobio/124/124/imr/blobio-imr_e85157f842f64fb4868c755c8b79fead.jpg?q=90), url(data:image/svg+xml;base64,PHN2ZyB3aWR0aD0iMjIiIGhlaWdodD0iMTgiIHhtbG5zPSJodHRwOi8vd3d3LnczLm9yZy8yMDAwL3N2ZyI+PGcgZmlsbD0iIzlEOUQ5RCIgZmlsbC1ydWxlPSJub256ZXJvIj48cGF0aCBkPSJNMjAgMEgyQzEgMCAwIDEgMCAydjE0YzAgMS4xLjkgMiAyIDJoMThjMSAwIDItMSAyLTJWMmMwLTEtMS0yLTItMnptMCAxNS45MmMtLjAyLjAzLS4wNi4wNi0uMDguMDhIMlYyLjA4TDIuMDggMmgxNy44M2MuMDMuMDIuMDYuMDYuMDguMDh2MTMuODRIMjB6Ii8+PHBhdGggZD0iTTEwIDEyLjUxTDcuNSA5LjUgNCAxNGgxNGwtNC41LTZ6Ii8+PC9nPjwvc3ZnPg==);width:62px;height:62px\"></div></div><div class=\"row _3n8db9\"><div class=\"row\"><p class=\"_2sc7ZR _2V5EHH\">Prashanth Balla</p><svg class=\"_2a1p_T\" height=\"14\" viewbox=\"0 0 12 12\" width=\"14\" xmlns=\"http://www.w3.org/2000/svg\"><g><circle cx=\"6\" cy=\"6\" fill=\"#878787\" r=\"6\"></circle><path d=\"M3 6l2 2 4-4\" fill=\"#878787\" stroke=\"#FFF\" stroke-width=\"1.5\"></path></g></svg><p class=\"_2mcZGG\" id=\"review-2dbb1b0e-3f34-4c17-9826-979f949dea66\"><span>Certified Buyer</span><span>, Pune</span></p><div></div><p class=\"_2sc7ZR\">4 months ago</p></div><div class=\"_1e9_Zu\"><div class=\"row\"><div class=\"_27aTsS\"><div class=\"_1LmwT9\"><svg class=\"skCrcq\" height=\"15\" width=\"20\" xmlns=\"http://www.w3.org/2000/svg\"><path class=\"_1LIt4y\" d=\"M9.58.006c-.41.043-.794.32-1.01.728-.277.557-2.334 4.693-2.74 5.1-.41.407-.944.6-1.544.6v8.572h7.5c.45 0 .835-.28 1.007-.665 0 0 2.207-6.234 2.207-6.834 0-.6-.47-1.072-1.07-1.072h-3.216c-.6 0-1.07-.535-1.07-1.07 0-.537.835-3.387 1.006-3.944.17-.557-.107-1.157-.664-1.35-.15-.043-.257-.086-.407-.064zM0 6.434v8.572h2.143V6.434H0z\" fill=\"#fff\" fill-rule=\"evenodd\"></path></svg><span class=\"_3c3Px5\">201</span></div><div class=\"_1LmwT9 pkR4jH\"><svg class=\"skCrcq pkR4jH\" height=\"15\" width=\"20\" xmlns=\"http://www.w3.org/2000/svg\"><path class=\"_1LIt4y\" d=\"M9.58.006c-.41.043-.794.32-1.01.728-.277.557-2.334 4.693-2.74 5.1-.41.407-.944.6-1.544.6v8.572h7.5c.45 0 .835-.28 1.007-.665 0 0 2.207-6.234 2.207-6.834 0-.6-.47-1.072-1.07-1.072h-3.216c-.6 0-1.07-.535-1.07-1.07 0-.537.835-3.387 1.006-3.944.17-.557-.107-1.157-.664-1.35-.15-.043-.257-.086-.407-.064zM0 6.434v8.572h2.143V6.434H0z\" fill=\"#fff\" fill-rule=\"evenodd\"></path></svg><span class=\"_3c3Px5\">64</span></div></div><div class=\"_2bmov8\"><svg class=\"_2UvOBb\" height=\"11\" viewbox=\"0 0 16 27\" width=\"6\" xmlns=\"http://www.w3.org/2000/svg\"><path class=\"_2aPE6f\" d=\"M16 23.207L6.11 13.161 16 3.093 12.955 0 0 13.161l12.955 13.161z\" fill=\"#fff\"></path></svg><div class=\"_3E8aIl _38dCuf\"><div class=\"_3XCI6U\"><a href=\"/reviews/MOBGRK2VXCKBADB5:5?reviewId=2dbb1b0e-3f34-4c17-9826-979f949dea66\"><span>Permalink</span></a></div><div class=\"_3XCI6U _2b2z-j\"><span>Report Abuse</span></div></div></div></div></div></div></div></div></div>"
      ]
     },
     "execution_count": 89,
     "metadata": {},
     "output_type": "execute_result"
    }
   ],
   "source": [
    "all_review[5]"
   ]
  },
  {
   "cell_type": "code",
   "execution_count": 93,
   "id": "194be538-99cf-41f1-ad81-db9f1f84d0f3",
   "metadata": {},
   "outputs": [],
   "source": [
    "rating = all_review[5].div.div.div.div.text"
   ]
  },
  {
   "cell_type": "code",
   "execution_count": 94,
   "id": "6868c6f9-623f-4900-87cb-59ef4a590ea0",
   "metadata": {},
   "outputs": [
    {
     "data": {
      "text/plain": [
       "'5'"
      ]
     },
     "execution_count": 94,
     "metadata": {},
     "output_type": "execute_result"
    }
   ],
   "source": [
    "rating"
   ]
  },
  {
   "cell_type": "code",
   "execution_count": 99,
   "id": "7d58cac7-48de-4118-a25e-f5d0c381e3f5",
   "metadata": {},
   "outputs": [],
   "source": [
    "name = all_review[5].div.div.find_all('p', {\"class\":\"_2sc7ZR _2V5EHH\"})[0].text"
   ]
  },
  {
   "cell_type": "code",
   "execution_count": 102,
   "id": "e7a98bbd-445a-4580-9246-b0cc51a1c478",
   "metadata": {},
   "outputs": [],
   "source": [
    "comment_header = all_review[5].div.div.div.p.text"
   ]
  },
  {
   "cell_type": "code",
   "execution_count": 103,
   "id": "6e0a3743-a910-4bd4-b7f6-9f9b0314ecff",
   "metadata": {},
   "outputs": [
    {
     "data": {
      "text/plain": [
       "'Just wow!'"
      ]
     },
     "execution_count": 103,
     "metadata": {},
     "output_type": "execute_result"
    }
   ],
   "source": [
    "comment_header"
   ]
  },
  {
   "cell_type": "code",
   "execution_count": 107,
   "id": "73adb68f-f63b-492e-9161-1793cb68516c",
   "metadata": {},
   "outputs": [],
   "source": [
    "comment = all_review[5].div.div.find_all('div', {'class': \"\"})[0].div.text"
   ]
  },
  {
   "cell_type": "code",
   "execution_count": 108,
   "id": "2ef2a39d-8a61-448f-a96d-daca1bf1e5fe",
   "metadata": {},
   "outputs": [
    {
     "data": {
      "text/plain": [
       "\"I'm fully satisfied with1. Camera clarity. 2. Display n performance is like Butter 🧈3. Speaker is also loud n clear compare to any other phones.4. Design - Lightweght 5. Charging is very fast.Only thing is Battery need to be 6000mah atleast .Still 5000mah is good for daily use. As it is charging very fast no need to worry. I give 4.5/5*\""
      ]
     },
     "execution_count": 108,
     "metadata": {},
     "output_type": "execute_result"
    }
   ],
   "source": [
    "comment"
   ]
  },
  {
   "cell_type": "code",
   "execution_count": null,
   "id": "c52b21ce-7f77-40f5-bd76-d7ac7a54c81c",
   "metadata": {},
   "outputs": [],
   "source": []
  }
 ],
 "metadata": {
  "kernelspec": {
   "display_name": "Python 3 (ipykernel)",
   "language": "python",
   "name": "python3"
  },
  "language_info": {
   "codemirror_mode": {
    "name": "ipython",
    "version": 3
   },
   "file_extension": ".py",
   "mimetype": "text/x-python",
   "name": "python",
   "nbconvert_exporter": "python",
   "pygments_lexer": "ipython3",
   "version": "3.11.5"
  },
  "widgets": {
   "application/vnd.jupyter.widget-state+json": {
    "state": {},
    "version_major": 2,
    "version_minor": 0
   }
  }
 },
 "nbformat": 4,
 "nbformat_minor": 5
}
