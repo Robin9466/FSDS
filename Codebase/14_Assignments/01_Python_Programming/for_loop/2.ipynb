{
  "nbformat": 4,
  "nbformat_minor": 0,
  "metadata": {
    "colab": {
      "provenance": []
    },
    "kernelspec": {
      "name": "python3",
      "display_name": "Python 3"
    },
    "language_info": {
      "name": "python"
    }
  },
  "cells": [
    {
      "cell_type": "markdown",
      "source": [
        "1. **Number of rows = Number of times the outer loop will run**:  \n",
        "   This outer loop determines how many lines (or rows) the pattern will have. For example, if you want to print 5 rows, the outer loop will run 5 times.\n",
        "\n",
        "2. **Number of columns = Number of times the inner loop will run**:  \n",
        "   The inner loop is responsible for printing the content of each row. The number of columns in each row depends on the pattern you want to print. For instance, if you want each row to have 5 columns (like 5 stars `*`), the inner loop runs 5 times per row.\n",
        "\n",
        "3. **The pattern = What you want to print**:  \n",
        "   The actual content being printed (like stars `*`, numbers, or characters) is decided inside the inner loop.\n",
        "\n",
        "### Example:\n",
        "To print a simple pattern like:\n",
        "\n",
        "```\n",
        "*****\n",
        "*****\n",
        "*****\n",
        "*****\n",
        "*****\n",
        "```\n",
        "\n",
        "Here:\n",
        "- **Number of rows**: 5 → outer loop runs 5 times\n",
        "- **Number of columns**: 5 → inner loop runs 5 times per row\n",
        "- **Pattern**: `*`\n",
        "\n",
        "### Code Example in Python:\n",
        "\n",
        "```python\n",
        "rows = 5\n",
        "columns = 5\n",
        "\n",
        "for i in range(rows):          # Outer loop for rows\n",
        "    for j in range(columns):   # Inner loop for columns\n",
        "        print(\"*\", end=\"\")     # Print * without a new line\n",
        "    print()                    # Move to the next line after each row\n",
        "```"
      ],
      "metadata": {
        "id": "S8IOI9mqzVXm"
      }
    },
    {
      "cell_type": "code",
      "execution_count": 2,
      "metadata": {
        "colab": {
          "base_uri": "https://localhost:8080/"
        },
        "id": "REiHiOWnrFWl",
        "outputId": "d8653ec1-2d7a-4721-ea7f-406aeeb0e0c9"
      },
      "outputs": [
        {
          "output_type": "stream",
          "name": "stdout",
          "text": [
            "Enter no of *'s in a row: 4\n",
            "* * * * * "
          ]
        }
      ],
      "source": [
        "#  1. To print given number of *s in a row\n",
        "\n",
        "'''\n",
        "* * * * *\n",
        "'''\n",
        "\n",
        "'''# 1st solution\n",
        "n = int(input(f\"Enter no of *'s in a row: \"))\n",
        "\n",
        "print('* '*n)\n",
        "'''\n",
        "\n",
        "# 2nd solution\n",
        "n = int(input(f\"Enter no of *'s in a row: \"))\n",
        "for i in range(n):\n",
        "    print('*', end = ' ')"
      ]
    },
    {
      "cell_type": "markdown",
      "source": [],
      "metadata": {
        "id": "g7232RXJyRvI"
      }
    },
    {
      "cell_type": "code",
      "source": [
        "#  2. To print square pattern with * symbols\n",
        "\n",
        "'''\n",
        "* * * *\n",
        "* * * *\n",
        "* * * *\n",
        "* * * *\n",
        "'''\n",
        "n = int(input(f\"Enter value of rows, you want to see: \"))\n",
        "\n",
        "'''for i in range(n):\n",
        "    print('* '*n)\n",
        "'''\n",
        "\n",
        "for i in range(n):\n",
        "    for j in range(n):\n",
        "        print('* ', end = '')\n",
        "    print()"
      ],
      "metadata": {
        "colab": {
          "base_uri": "https://localhost:8080/"
        },
        "id": "Dvlus8MY0Zro",
        "outputId": "66c8dab5-a9bc-4f12-f28e-e80a79bd0a2e"
      },
      "execution_count": 16,
      "outputs": [
        {
          "output_type": "stream",
          "name": "stdout",
          "text": [
            "Enter value of rows, you want to see: 4\n",
            "* * * * \n",
            "* * * * \n",
            "* * * * \n",
            "* * * * \n"
          ]
        }
      ]
    },
    {
      "cell_type": "code",
      "source": [
        "#  3. Square pattern with provided fixed digit\n",
        "\n",
        "'''\n",
        "4 4 4 4\n",
        "4 4 4 4\n",
        "4 4 4 4\n",
        "4 4 4 4\n",
        "'''\n",
        "n = int(input(f\"Enter number of rows: \"))\n",
        "\n",
        "for i in range(n):\n",
        "    print((str(n)+ ' ' )*n)"
      ],
      "metadata": {
        "colab": {
          "base_uri": "https://localhost:8080/"
        },
        "id": "kZfeYtwZ1vRZ",
        "outputId": "a5230ba5-85f1-4644-cb2a-9ad0bfd472b6"
      },
      "execution_count": 6,
      "outputs": [
        {
          "output_type": "stream",
          "name": "stdout",
          "text": [
            "Enter number of rows: 4\n",
            "4 4 4 4 \n",
            "4 4 4 4 \n",
            "4 4 4 4 \n",
            "4 4 4 4 \n"
          ]
        }
      ]
    },
    {
      "cell_type": "code",
      "source": [
        "# 4. Square pattern with provided fixed digit in every row:\n",
        "\n",
        "'''\n",
        "1 1 1 1\n",
        "2 2 2 2\n",
        "3 3 3 3\n",
        "4 4 4 4\n",
        "'''\n",
        "n = int(input(f\"Enter number of rows: \"))\n",
        "\n",
        "for i in range(n):\n",
        "    print((str(i+1) + ' ')*n)"
      ],
      "metadata": {
        "colab": {
          "base_uri": "https://localhost:8080/"
        },
        "id": "a9NopRBUqJlC",
        "outputId": "e7deb941-1d7d-4fd8-ab84-f2acc1301b8f"
      },
      "execution_count": 7,
      "outputs": [
        {
          "output_type": "stream",
          "name": "stdout",
          "text": [
            "Enter number of rows: 4\n",
            "1 1 1 1 \n",
            "2 2 2 2 \n",
            "3 3 3 3 \n",
            "4 4 4 4 \n"
          ]
        }
      ]
    },
    {
      "cell_type": "code",
      "source": [
        "# 5. To print square pattern with fixed alphabet symbol\n",
        "'''\n",
        "A A A A\n",
        "A A A A\n",
        "A A A A\n",
        "A A A A\n",
        "'''\n",
        "n = int(input(f\"Enter number of rows: \"))\n",
        "\n",
        "for i in range(n):\n",
        "    print('A '*n)"
      ],
      "metadata": {
        "colab": {
          "base_uri": "https://localhost:8080/"
        },
        "id": "lfRqKogXtVjo",
        "outputId": "4e0b410a-4ca3-42f2-87bf-75ef097a0a25"
      },
      "execution_count": 8,
      "outputs": [
        {
          "output_type": "stream",
          "name": "stdout",
          "text": [
            "Enter number of rows: 4\n",
            "A A A A \n",
            "A A A A \n",
            "A A A A \n",
            "A A A A \n"
          ]
        }
      ]
    },
    {
      "cell_type": "code",
      "source": [
        "# 6. Right Angle Triangle pattern with fixed alphabet symbol\n",
        "'''\n",
        "A\n",
        "B B\n",
        "C C C\n",
        "D D D D\n",
        "'''\n",
        "n = int(input(f\"Enter number of rows: \"))\n",
        "\n",
        "for i in range(n):\n",
        "    print((chr(65+i) + ' ')*(i+1))"
      ],
      "metadata": {
        "colab": {
          "base_uri": "https://localhost:8080/"
        },
        "id": "Tw6LP5wrvAnc",
        "outputId": "0d8cbc4a-dd9c-4b59-b193-0854c10b11dd"
      },
      "execution_count": 9,
      "outputs": [
        {
          "output_type": "stream",
          "name": "stdout",
          "text": [
            "Enter number of rows: 4\n",
            "A \n",
            "B B \n",
            "C C C \n",
            "D D D D \n"
          ]
        }
      ]
    },
    {
      "cell_type": "code",
      "source": [
        "# 7. Inverted Right Angle Triangle pattern with * symbols\n",
        "\n",
        "'''\n",
        "* * * *\n",
        "* * *\n",
        "* *\n",
        "*\n",
        "'''\n",
        "n = int(input(f\"Enter number of rows: \"))\n",
        "\n",
        "for i in range(n):\n",
        "    print('* '*(n-i))\n"
      ],
      "metadata": {
        "colab": {
          "base_uri": "https://localhost:8080/"
        },
        "id": "lv_YjUkEzRio",
        "outputId": "9fe8ae10-a156-4c5e-941e-c6e61eaf4330"
      },
      "execution_count": 10,
      "outputs": [
        {
          "output_type": "stream",
          "name": "stdout",
          "text": [
            "Enter number of rows: 4\n",
            "* * * * \n",
            "* * * \n",
            "* * \n",
            "* \n"
          ]
        }
      ]
    },
    {
      "cell_type": "code",
      "source": [
        "# 8. Inverted Right Angle Triangle pattern with digits\n",
        "\n",
        "'''\n",
        "1 2 3 4\n",
        "1 2 3\n",
        "1 2\n",
        "1\n",
        "'''\n",
        "n = int(input(f\"Enter number of rows: \"))\n",
        "\n",
        "for i in range(n):\n",
        "    for j in range(n-i):\n",
        "        print(j+1, end = ' ')\n",
        "    print()"
      ],
      "metadata": {
        "colab": {
          "base_uri": "https://localhost:8080/"
        },
        "id": "3be_1npf1420",
        "outputId": "014d203b-23e6-45d9-f184-caed3c8a15f1"
      },
      "execution_count": 11,
      "outputs": [
        {
          "output_type": "stream",
          "name": "stdout",
          "text": [
            "Enter number of rows: 4\n",
            "1 2 3 4 \n",
            "1 2 3 \n",
            "1 2 \n",
            "1 \n"
          ]
        }
      ]
    },
    {
      "cell_type": "code",
      "source": [
        "# 9. To print Pyramid pattern with fixed digit in every row\n",
        "'''\n",
        "   1\n",
        "  2 2\n",
        " 3 3 3\n",
        "4 4 4 4\n",
        "'''\n",
        "\n",
        "n = int(input(f\"Enter no of rows: \"))\n",
        "\n",
        "for i in range(n):\n",
        "    print(' '*(n-i-1) + (str(i+1) + ' ')*(i+1))"
      ],
      "metadata": {
        "colab": {
          "base_uri": "https://localhost:8080/"
        },
        "id": "BcFcCQxYleWu",
        "outputId": "1e4b8d2d-a104-4ed0-d2a2-c70911898705"
      },
      "execution_count": 12,
      "outputs": [
        {
          "output_type": "stream",
          "name": "stdout",
          "text": [
            "Enter no of rows: 4\n",
            "   1 \n",
            "  2 2 \n",
            " 3 3 3 \n",
            "4 4 4 4 \n"
          ]
        }
      ]
    },
    {
      "cell_type": "code",
      "source": [
        "# 10. Pyramid pattern with alphabet symbols in reverse of dictionary order\n",
        "\n",
        "'''\n",
        "   D\n",
        "  D C\n",
        " D C B\n",
        "D C B A\n",
        "'''\n",
        "\n",
        "n = int(input(f\"Enter no of rows: \"))\n",
        "\n",
        "for i in range(n):\n",
        "    print(' '*(n-i-1),end = '')\n",
        "    for j in range(i+1):\n",
        "        print(chr(64+n-j), end = ' ')\n",
        "    print()"
      ],
      "metadata": {
        "colab": {
          "base_uri": "https://localhost:8080/"
        },
        "id": "kMFDH4EPtzCh",
        "outputId": "a755d6f0-4d61-4a3f-a3f6-f5e895bd8bb9"
      },
      "execution_count": 13,
      "outputs": [
        {
          "output_type": "stream",
          "name": "stdout",
          "text": [
            "Enter no of rows: 4\n",
            "   D \n",
            "  D C \n",
            " D C B \n",
            "D C B A \n"
          ]
        }
      ]
    },
    {
      "cell_type": "code",
      "source": [
        "# 11. Right Half Diamond Pattern with alphabet symbols in dictionary order\n",
        "\n",
        "'''\n",
        "A\n",
        "A B\n",
        "A B C\n",
        "A B C D\n",
        "A B C\n",
        "A B\n",
        "A\n",
        "'''\n",
        "\n",
        "n = int(input(f\"Enter no of rows: \"))\n",
        "\n",
        "for i in range(n):\n",
        "    for j in range(i+1):\n",
        "        print(chr(65+j), end = ' ')\n",
        "    print()\n",
        "for i in range(n-1):\n",
        "    for j in range(n-i-1):\n",
        "        print(chr(65+j), end = ' ')\n",
        "    print()\n",
        "\n",
        "\n",
        "\n"
      ],
      "metadata": {
        "colab": {
          "base_uri": "https://localhost:8080/"
        },
        "id": "9gIVnY0I66Ci",
        "outputId": "474236db-667e-4226-d72a-21749b1b4ce6"
      },
      "execution_count": 14,
      "outputs": [
        {
          "output_type": "stream",
          "name": "stdout",
          "text": [
            "Enter no of rows: 4\n",
            "A \n",
            "A B \n",
            "A B C \n",
            "A B C D \n",
            "A B C \n",
            "A B \n",
            "A \n"
          ]
        }
      ]
    },
    {
      "cell_type": "code",
      "source": [
        "# 12. To print Inverted Pyramid Pattern with alphabet symbols in dictionary order\n",
        "\n",
        "'''\n",
        "A B C D\n",
        " A B C\n",
        "  A B\n",
        "   A\n",
        "'''\n",
        "n = int(input(f\"Enter number of rows: \"))\n",
        "\n",
        "for i in range(n):\n",
        "    print(' '*i, end = '')\n",
        "    for j in range(n-i):\n",
        "        print(chr(65+j), end = ' ')\n",
        "    print()"
      ],
      "metadata": {
        "colab": {
          "base_uri": "https://localhost:8080/"
        },
        "id": "dLenvsJ9RnRg",
        "outputId": "a68f42c2-3274-4cb0-b424-76bea6a07120"
      },
      "execution_count": 5,
      "outputs": [
        {
          "output_type": "stream",
          "name": "stdout",
          "text": [
            "Enter number of rows: 4\n",
            "A B C D \n",
            " A B C \n",
            "  A B \n",
            "   A \n"
          ]
        }
      ]
    },
    {
      "cell_type": "code",
      "source": [
        "# 13. To print Diamond Pattern with * symbols\n",
        "\n",
        "'''\n",
        "   *\n",
        "  * *\n",
        " * * *\n",
        "* * * *\n",
        " * * *\n",
        "  * *\n",
        "   *\n",
        "'''\n",
        "\n",
        "n = int(input(f\"Enter number of rows: \"))\n",
        "\n",
        "# Handling top half of the pattern\n",
        "for i in range(n):\n",
        "    print(' '*(n-i-1) + '* '*(i+1))\n",
        "\n",
        "# Handling bottom half of the pattern\n",
        "for i in range(n-1):\n",
        "    print(' '*(i+1)+ '* '*(n-i-1))\n"
      ],
      "metadata": {
        "colab": {
          "base_uri": "https://localhost:8080/"
        },
        "id": "PDuOJ3VqUgib",
        "outputId": "6966a818-c62c-4241-bbd8-de06ee2153d4"
      },
      "execution_count": 18,
      "outputs": [
        {
          "output_type": "stream",
          "name": "stdout",
          "text": [
            "Enter number of rows: 4\n",
            "   * \n",
            "  * * \n",
            " * * * \n",
            "* * * * \n",
            " * * * \n",
            "  * * \n",
            "   * \n"
          ]
        }
      ]
    },
    {
      "cell_type": "code",
      "source": [
        "14. # To print Right Half Diamond Pattern with * symbols\n",
        "\n",
        "'''\n",
        "Enter number of rows: 4\n",
        "*\n",
        "* *\n",
        "* * *\n",
        "* * * *\n",
        "* * *\n",
        "* *\n",
        "*\n",
        "'''\n",
        "\n",
        "n = int(input(f\"Enter number of rows: \"))\n",
        "\n",
        "# Handling first right angle trianle ( Including middle row )\n",
        "for i in range(n):\n",
        "    print('* '*(i+1), end = '')\n",
        "    print()\n",
        "\n",
        "# Handling inverted right angle triangle\n",
        "for i in range(n-1):\n",
        "    print('* '*(n-i-1), end = '')\n",
        "    print()\n"
      ],
      "metadata": {
        "colab": {
          "base_uri": "https://localhost:8080/"
        },
        "id": "6ftJfwXMbBAZ",
        "outputId": "47922929-435e-4148-d706-1633e4182a3e"
      },
      "execution_count": 22,
      "outputs": [
        {
          "output_type": "stream",
          "name": "stdout",
          "text": [
            "Enter number of rows: 4\n",
            "* \n",
            "* * \n",
            "* * * \n",
            "* * * * \n",
            "* * * \n",
            "* * \n",
            "* \n"
          ]
        }
      ]
    },
    {
      "cell_type": "code",
      "source": [
        "# 15. To print Left Half Diamond Pattern with * symbols\n",
        "'''\n",
        "      *\n",
        "    * *\n",
        "  * * *\n",
        "* * * *\n",
        "  * * *\n",
        "    * *\n",
        "      *\n",
        "'''\n",
        "\n",
        "n = int(input(f\"Enter number of rows: \"))\n",
        "\n",
        "# Handling left-sided right angle trianle  ( Including middle row )\n",
        "for i in range(n):\n",
        "    print('  '*(n-i-1) + '* '*(i+1))\n",
        "\n",
        "# Handling left-sided inverted right angle triangle\n",
        "for i in range(n-1):\n",
        "    print('  '*(i+1) + '* '*(n-i-1))"
      ],
      "metadata": {
        "colab": {
          "base_uri": "https://localhost:8080/"
        },
        "id": "PWCrbm6Cchta",
        "outputId": "99360ac4-ae35-4db9-d0ab-85fb14c13f71"
      },
      "execution_count": 26,
      "outputs": [
        {
          "output_type": "stream",
          "name": "stdout",
          "text": [
            "Enter number of rows: 4\n",
            "      * \n",
            "    * * \n",
            "  * * * \n",
            "* * * * \n",
            "  * * * \n",
            "    * * \n",
            "      * \n"
          ]
        }
      ]
    },
    {
      "cell_type": "code",
      "source": [
        "# To print Top Half Hallow Diamond Pattern with * symbols\n",
        "\n",
        "n = int(input(f\"Enter number of rows: \"))\n",
        "\n",
        "for i in range(n):\n",
        "    print('  '*(n-i-1) + '* ', end = '')\n",
        "    if i >= 1:\n",
        "        print('  '*(2*i-1) + '*', end = '')\n",
        "    print()\n",
        ""
      ],
      "metadata": {
        "colab": {
          "base_uri": "https://localhost:8080/"
        },
        "id": "t4Djiu3M-_Xj",
        "outputId": "164ef583-b868-47ac-e650-baad6484b6bf"
      },
      "execution_count": 21,
      "outputs": [
        {
          "output_type": "stream",
          "name": "stdout",
          "text": [
            "Enter number of rows: 4\n",
            "      * \n",
            "    *   *\n",
            "  *       *\n",
            "*           *\n"
          ]
        }
      ]
    },
    {
      "cell_type": "code",
      "source": [
        "# o print Bottom Half Hallow Diamond Pattern with * symbols\n",
        "\n",
        "n = int(input(f\"Enter number of rows: \"))\n",
        "\n",
        "for i in range(n):\n",
        "    print('  '*i + '* ', end = '')\n",
        "    if i != (n-1):\n",
        "        print('  '*(2*n-2*i-3) + '*', end = '')\n",
        "    print()"
      ],
      "metadata": {
        "colab": {
          "base_uri": "https://localhost:8080/"
        },
        "id": "CZO-zpmJGpvi",
        "outputId": "5a64b9a9-dd98-4865-9e5f-6fb27ab45d45"
      },
      "execution_count": 23,
      "outputs": [
        {
          "output_type": "stream",
          "name": "stdout",
          "text": [
            "Enter number of rows: 4\n",
            "*           *\n",
            "  *       *\n",
            "    *   *\n",
            "      * \n"
          ]
        }
      ]
    },
    {
      "cell_type": "code",
      "source": [
        "# To print Hallow Diamond Pattern with * symbols\n",
        "\n",
        "'''\n",
        "        *\n",
        "      *   *\n",
        "    *       *\n",
        "  *           *\n",
        "*               *\n",
        "  *           *\n",
        "    *       *\n",
        "      *   *\n",
        "        *\n",
        "'''\n",
        "\n",
        "# Top Half of Hollow Diamond\n",
        "n = int(input(f\"Enter number of rows: \"))\n",
        "\n",
        "for i in range(n):\n",
        "    print('  '*(n-i-1) + '* ', end = '')\n",
        "    if i >= 1:\n",
        "        print('  '*(2*i-1) + '*', end = '')\n",
        "    print()\n",
        "\n",
        "\n",
        "# Bottom Half of Hollow Diamond\n",
        "for i in range(n-1):\n",
        "    print('  '*(i+1) + '* ', end = '')\n",
        "    if i != (n-2):\n",
        "        print('  '*(2*(n-i-2)-1) + '*', end = '')\n",
        "    print()"
      ],
      "metadata": {
        "colab": {
          "base_uri": "https://localhost:8080/"
        },
        "id": "sqJ_mi81IY6E",
        "outputId": "11cee75d-6868-46c1-8cef-478a4b016d67"
      },
      "execution_count": 36,
      "outputs": [
        {
          "output_type": "stream",
          "name": "stdout",
          "text": [
            "Enter number of rows: 5\n",
            "        * \n",
            "      *   *\n",
            "    *       *\n",
            "  *           *\n",
            "*               *\n",
            "  *           *\n",
            "    *       *\n",
            "      *   *\n",
            "        * \n"
          ]
        }
      ]
    },
    {
      "cell_type": "code",
      "source": [
        "# To print Bottom Half Hollw Diamond Pattern with aplhabet symbols in reverse\n",
        "\n",
        "'''\n",
        "A          A\n",
        "  B      B\n",
        "    C  C\n",
        "      D\n",
        "'''\n",
        "n = int(input(f\"Enter number of rows: \"))\n",
        "\n",
        "for i in range(n):\n",
        "    print('  '*i + chr(65+i), end = '')\n",
        "    if i != (n-1):\n",
        "        print('  '*(2*n-2*i-3) + chr(65+i), end = '')\n",
        "    print()"
      ],
      "metadata": {
        "colab": {
          "base_uri": "https://localhost:8080/"
        },
        "id": "TJiQdHvZdvsK",
        "outputId": "34f375f9-d5a8-42b4-99bb-b5994eb6ac0d"
      },
      "execution_count": 1,
      "outputs": [
        {
          "output_type": "stream",
          "name": "stdout",
          "text": [
            "Enter number of rows: 4\n",
            "A          A\n",
            "  B      B\n",
            "    C  C\n",
            "      D\n"
          ]
        }
      ]
    },
    {
      "cell_type": "code",
      "source": [
        "# To print Left Half Diamond Pattern with digits in ascending order\n",
        "'''\n",
        "      1\n",
        "    1 2\n",
        "  1 2 3\n",
        "1 2 3 4\n",
        "  1 2 3\n",
        "    1 2\n",
        "      1\n",
        "'''\n",
        "n = int(input(f\"Enter number of rows: \"))\n",
        "\n",
        "# Handling for top half(including middle rows)\n",
        "for i in range(n):\n",
        "    print('  '*(n-i-1), end = '')\n",
        "    for j in range(i+1):\n",
        "        print(j+1, end = ' ')\n",
        "    print()\n",
        "# Handling bottom half\n",
        "for i in range(n-1):\n",
        "    print('  '*(i+1), end = '')\n",
        "    for j in range(n-i-1):\n",
        "        print(j+1, end = ' ')\n",
        "    print()"
      ],
      "metadata": {
        "colab": {
          "base_uri": "https://localhost:8080/"
        },
        "id": "TvFeYk6ifjbZ",
        "outputId": "b9d09f5c-8c04-4ba0-c7be-60f3d4fadf1d"
      },
      "execution_count": 16,
      "outputs": [
        {
          "output_type": "stream",
          "name": "stdout",
          "text": [
            "Enter number of rows: 4\n",
            "      1 \n",
            "    1 2 \n",
            "  1 2 3 \n",
            "1 2 3 4 \n",
            "  1 2 3 \n",
            "    1 2 \n",
            "      1 \n"
          ]
        }
      ]
    }
  ]
}