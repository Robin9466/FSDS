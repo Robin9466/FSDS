{
 "cells": [
  {
   "cell_type": "code",
   "execution_count": null,
   "id": "39ecb46e",
   "metadata": {},
   "outputs": [],
   "source": [
    "MySQL:\n",
    "    1. Create a table attribute dataset and dress dataset\n",
    "    2. Do a bulk load for these two table for respective dataset\n",
    "    3. read these dataset in Pandas as a dataframe\n",
    "    4. Convert attribute dataset in json format\n",
    "    5. Store this dataset into mongodb\n",
    "    6. In SQL task, try to perform left join operation with attribute dataset and dress dataset on column Dress ID\n",
    "    7. Write a SQL query to find out how many unique dress that we have based on dress id\n",
    "    8. Try to find out how many dress id is having recommendation 0\n",
    "    9. Try to find out total dress sell for individual dress id\n",
    "    10. Try to find out a third highest most selling dress id"
   ]
  }
 ],
 "metadata": {
  "kernelspec": {
   "display_name": "Python 3 (ipykernel)",
   "language": "python",
   "name": "python3"
  },
  "language_info": {
   "codemirror_mode": {
    "name": "ipython",
    "version": 3
   },
   "file_extension": ".py",
   "mimetype": "text/x-python",
   "name": "python",
   "nbconvert_exporter": "python",
   "pygments_lexer": "ipython3",
   "version": "3.11.4"
  }
 },
 "nbformat": 4,
 "nbformat_minor": 5
}
